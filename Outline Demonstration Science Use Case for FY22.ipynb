{
 "cells": [
  {
   "cell_type": "markdown",
   "id": "00d10b76-3019-4775-a82e-929d2ce41b0d",
   "metadata": {},
   "source": [
    "# Outline of Demonstration Science Use Case for FY22\n",
    "NASA observatories such as XMM, Chandra, GALEX, HST, Spitzer, WISE, and Herschel have spent significant resources to observe carefully-chosen survey fields for the purpose of enabling a large variety of extragalactic science. High-quality multi-wavelength photometry catalogs from these observations, in combination with ground-based data, are critical for carrying out these science investigations. The best way to create these catalogs is to use data with high spatial resolution to generate positional priors that can be used to optimally extract photometry from data with lower spatial resolution. \n",
    "\n",
    "This is a wire-frame notebook that shows the steps required to start with a catalog of positional priors and extract photometry from GALEX and Spitzer imaging, and cross-match with X-ray catalogs to generate a catalog of spectral energy distributions."
   ]
  },
  {
   "cell_type": "markdown",
   "id": "6b7b70e9-06a4-43ac-82e7-83f91a042c08",
   "metadata": {},
   "source": [
    "# Preliminaries\n",
    "Install pyvo #for querying data\n",
    "\n",
    "Install tractor\n",
    "\n",
    "import other necessary modules, for e.g. visualizaing data"
   ]
  },
  {
   "cell_type": "markdown",
   "id": "bb1fecf8-32b4-4f25-b301-017af638f672",
   "metadata": {},
   "source": [
    "# Search for a catalog of source positions derived from high-resolution data in the COSMOS field."
   ]
  },
  {
   "cell_type": "markdown",
   "id": "298180bf-8b2d-4fb3-b2f5-3770f60fb201",
   "metadata": {},
   "source": [
    "Use the VO Table Access Protocol to search the catalog of interest."
   ]
  },
  {
   "cell_type": "markdown",
   "id": "4c646873-8735-4f55-9a48-3707f9f4cef4",
   "metadata": {},
   "source": [
    "Visualize the table results."
   ]
  },
  {
   "cell_type": "markdown",
   "id": "a207b112-fea3-49dd-b113-0f6a13d6d4d1",
   "metadata": {},
   "source": [
    "# Perform multi-wavelength photometry at the desired source positions."
   ]
  },
  {
   "cell_type": "markdown",
   "id": "3deb498c-0dcf-41c8-9a8d-beb9bd50e400",
   "metadata": {},
   "source": [
    "Search the VO registry for the service that provides access to the Spitzer Enhanced Imaging Products and GALEX images."
   ]
  },
  {
   "cell_type": "markdown",
   "id": "700e880d-9d69-40f5-b968-0ca635ff61a0",
   "metadata": {},
   "source": [
    "For each source position and each band:"
   ]
  },
  {
   "cell_type": "markdown",
   "id": "5f8bb22a-7671-4743-9162-a50e642e9fb2",
   "metadata": {},
   "source": [
    "Find the best (most centered) science image for performing photometry."
   ]
  },
  {
   "cell_type": "markdown",
   "id": "69661b8a-4874-4468-a1cc-a09b0f20fd90",
   "metadata": {},
   "source": [
    "Find or derive inverse-variance maps."
   ]
  },
  {
   "cell_type": "markdown",
   "id": "95fb2c6f-5eb6-4788-85bb-eeaa48256ce0",
   "metadata": {},
   "source": [
    "Make multi-wavelength cutouts centered on that source position."
   ]
  },
  {
   "cell_type": "markdown",
   "id": "774eef9f-b245-46c0-83ab-b06ba15e2f4e",
   "metadata": {},
   "source": [
    "Load the WCS model from the header."
   ]
  },
  {
   "cell_type": "markdown",
   "id": "4f196b78-3671-48ff-b6e7-f18d1425cabb",
   "metadata": {},
   "source": [
    "Find or derive the PSF."
   ]
  },
  {
   "cell_type": "markdown",
   "id": "0e58f83c-55fa-438a-a4a2-82ebbd0fff6f",
   "metadata": {},
   "source": [
    "Determine photometric calibration parameters, e.g. zeropoint."
   ]
  },
  {
   "cell_type": "markdown",
   "id": "d9012636-4e25-44d7-8ca0-8bcc148792fc",
   "metadata": {},
   "source": [
    "Determine the sky background."
   ]
  },
  {
   "cell_type": "markdown",
   "id": "ddfb4b6b-e970-47c3-93ea-71ce6e1bb713",
   "metadata": {},
   "source": [
    "Create the Tractor image."
   ]
  },
  {
   "cell_type": "markdown",
   "id": "7b70ed24-ce5c-4036-a940-160df8e413c4",
   "metadata": {},
   "source": [
    "Figure out *all* the sources in the cutout."
   ]
  },
  {
   "cell_type": "markdown",
   "id": "502e77ae-716f-4199-8780-1993346d88e1",
   "metadata": {},
   "source": [
    "For each of the sources in the cutout, assemble information about position, brightness, shape."
   ]
  },
  {
   "cell_type": "markdown",
   "id": "64fc17d9-34a1-468b-938e-cb711d355055",
   "metadata": {},
   "source": [
    "Create the Tractor object -- a list of tractor Images and a list of tractor sources.\n"
   ]
  },
  {
   "cell_type": "markdown",
   "id": "1c2cc9c8-18ab-4145-b02e-ee8a332893c7",
   "metadata": {},
   "source": [
    "Render the model image.\n"
   ]
  },
  {
   "cell_type": "markdown",
   "id": "b60568b0-3220-434b-b12e-cd71a8dbdf76",
   "metadata": {},
   "source": [
    "Fit the source parameters."
   ]
  },
  {
   "cell_type": "markdown",
   "id": "b3c9e218-6b04-447b-9097-e2c8b0720cb3",
   "metadata": {},
   "source": [
    "# Assemble the Spitzer and GALEX photometry into a single table."
   ]
  },
  {
   "cell_type": "markdown",
   "id": "d94add3b-0f24-4b8e-9106-957fb3902814",
   "metadata": {},
   "source": [
    "# Cross-match with the Chandra and XMM Source Catalogs."
   ]
  },
  {
   "cell_type": "markdown",
   "id": "c1ebb613-3169-430c-932c-634dca705b88",
   "metadata": {},
   "source": [
    "# Browse the SEDs alongside the cutouts to make sure that they look reasonable."
   ]
  },
  {
   "cell_type": "code",
   "execution_count": null,
   "id": "742e9b6c-7975-47c4-9c44-82cf8ee90c6e",
   "metadata": {},
   "outputs": [],
   "source": []
  }
 ],
 "metadata": {
  "kernelspec": {
   "display_name": "Python 3 (ipykernel)",
   "language": "python",
   "name": "python3"
  },
  "language_info": {
   "codemirror_mode": {
    "name": "ipython",
    "version": 3
   },
   "file_extension": ".py",
   "mimetype": "text/x-python",
   "name": "python",
   "nbconvert_exporter": "python",
   "pygments_lexer": "ipython3",
   "version": "3.9.7"
  }
 },
 "nbformat": 4,
 "nbformat_minor": 5
}
